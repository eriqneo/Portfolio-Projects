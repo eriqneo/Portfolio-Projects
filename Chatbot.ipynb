{
  "nbformat": 4,
  "nbformat_minor": 0,
  "metadata": {
    "colab": {
      "provenance": [],
      "mount_file_id": "1GQ6vyfbtKpBVDVuWHzjmjmLnvcHvaqRF",
      "authorship_tag": "ABX9TyMawfsGeynt+A1RFJ+RTgJq",
      "include_colab_link": true
    },
    "kernelspec": {
      "name": "python3",
      "display_name": "Python 3"
    },
    "language_info": {
      "name": "python"
    }
  },
  "cells": [
    {
      "cell_type": "markdown",
      "metadata": {
        "id": "view-in-github",
        "colab_type": "text"
      },
      "source": [
        "<a href=\"https://colab.research.google.com/github/eriqneo/Portfolio-Projects/blob/main/Chatbot.ipynb\" target=\"_parent\"><img src=\"https://colab.research.google.com/assets/colab-badge.svg\" alt=\"Open In Colab\"/></a>"
      ]
    },
    {
      "cell_type": "code",
      "source": [
        "import spacy\n",
        "import random"
      ],
      "metadata": {
        "id": "JjFeyiA6S9xU"
      },
      "execution_count": 43,
      "outputs": []
    },
    {
      "cell_type": "code",
      "source": [
        "# Load the English language model\n",
        "nlp = spacy.load(\"en_core_web_sm\")\n",
        "\n",
        "# Increase the max_length limit\n",
        "nlp.max_length = 3000000  # Adjust this value as per your requirement"
      ],
      "metadata": {
        "id": "dSSdW2-Ao9fd"
      },
      "execution_count": 28,
      "outputs": []
    },
    {
      "cell_type": "code",
      "execution_count": 41,
      "metadata": {
        "id": "Kjz3rGwHN6Ke"
      },
      "outputs": [],
      "source": [
        "# Read the conversations from the text file\n",
        "file_path = '/content/drive/MyDrive/Boo.txt'\n",
        "\n",
        "with open(file_path, 'r') as file:\n",
        "    conversations = file.readlines()\n",
        "\n",
        "# Process the conversations and extract messages from Boo\n",
        "boo_messages = []\n",
        "for line in conversations:\n",
        "    if 'Boo' in line:\n",
        "        parts = line.split(' - ')\n",
        "        if len(parts) >= 2:\n",
        "            message = parts[1].strip()\n",
        "            boo_messages.append(message)"
      ]
    },
    {
      "cell_type": "code",
      "source": [
        "# Process the conversations and extract messages from Boo\n",
        "boo_messages = []\n",
        "for line in conversations:\n",
        "    if 'Boo 💝' in line:\n",
        "        parts = line.split(' - ')\n",
        "        if len(parts) >= 2:\n",
        "            message = parts[1].strip()\n",
        "            boo_messages.append(message)\n",
        "\n",
        "# Shuffle Boo's messages for randomness\n",
        "random.shuffle(boo_messages)\n",
        "\n",
        "# Simulate chatting as Boo 💝 with context management\n",
        "print(\"Welcome to the Boo 💝 chatbot! (type 'quit' to exit)\")\n",
        "\n",
        "# Initialize context to store the last few messages\n",
        "context = []\n",
        "\n",
        "for boo_message in boo_messages:\n",
        "    # Print Boo's message\n",
        "    print(\"Boo 💝:\", boo_message)\n",
        "\n",
        "    # Add Boo's message to context\n",
        "    context.append(boo_message)\n",
        "\n",
        "    # Check if the user wants to quit\n",
        "    user_input = input(\"You: \")\n",
        "\n",
        "    # Add user input to context\n",
        "    context.append(user_input)\n",
        "\n",
        "    if user_input.lower() == 'quit':\n",
        "        print(\"Goodbye!\")\n",
        "        break\n",
        "\n",
        "    # Simulate generating a response based on context\n",
        "    # In this example, the response is simply echoing the last message from context\n",
        "   # if len(context) >= 2:\n",
        "       # print(\"Boo 💝: Ah, I see! You said:\", context[-2])\n",
        "\n",
        "print(\"End of conversation.\")"
      ],
      "metadata": {
        "id": "EDSpmvOp6EmU"
      },
      "execution_count": null,
      "outputs": []
    },
    {
      "cell_type": "code",
      "source": [],
      "metadata": {
        "id": "sm9IDug87Zi1"
      },
      "execution_count": null,
      "outputs": []
    }
  ]
}