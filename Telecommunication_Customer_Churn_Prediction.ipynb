{
  "nbformat": 4,
  "nbformat_minor": 0,
  "metadata": {
    "colab": {
      "provenance": []
    },
    "kernelspec": {
      "name": "python3",
      "display_name": "Python 3"
    },
    "language_info": {
      "name": "python"
    }
  },
  "cells": [
    {
      "cell_type": "code",
      "execution_count": 1,
      "metadata": {
        "id": "2zS6gfj-aiAd"
      },
      "outputs": [],
      "source": [
        "# Import necessary libraries\n",
        "import pandas as pd\n",
        "import numpy as np\n",
        "from sklearn.model_selection import train_test_split\n",
        "from sklearn.preprocessing import LabelEncoder\n",
        "from sklearn.ensemble import RandomForestClassifier\n",
        "from sklearn.metrics import accuracy_score, confusion_matrix, classification_report"
      ]
    },
    {
      "cell_type": "code",
      "source": [
        "#Load the data\n",
        "data = pd.read_csv('TelcocustomerChurn.csv')\n",
        "\n",
        "#inspect the data\n",
        "print(data.head())\n",
        "print(data.info())"
      ],
      "metadata": {
        "colab": {
          "base_uri": "https://localhost:8080/"
        },
        "id": "4RpkoqhXb8OG",
        "outputId": "2b6a466a-b3eb-48a0-d7fa-24b1f787805f"
      },
      "execution_count": 3,
      "outputs": [
        {
          "output_type": "stream",
          "name": "stdout",
          "text": [
            "   customerID  gender  SeniorCitizen Partner Dependents  tenure PhoneService  \\\n",
            "0  7590-VHVEG  Female              0     Yes         No       1           No   \n",
            "1  5575-GNVDE    Male              0      No         No      34          Yes   \n",
            "2  3668-QPYBK    Male              0      No         No       2          Yes   \n",
            "3  7795-CFOCW    Male              0      No         No      45           No   \n",
            "4  9237-HQITU  Female              0      No         No       2          Yes   \n",
            "\n",
            "      MultipleLines InternetService OnlineSecurity  ... DeviceProtection  \\\n",
            "0  No phone service             DSL             No  ...               No   \n",
            "1                No             DSL            Yes  ...              Yes   \n",
            "2                No             DSL            Yes  ...               No   \n",
            "3  No phone service             DSL            Yes  ...              Yes   \n",
            "4                No     Fiber optic             No  ...               No   \n",
            "\n",
            "  TechSupport StreamingTV StreamingMovies        Contract PaperlessBilling  \\\n",
            "0          No          No              No  Month-to-month              Yes   \n",
            "1          No          No              No        One year               No   \n",
            "2          No          No              No  Month-to-month              Yes   \n",
            "3         Yes          No              No        One year               No   \n",
            "4          No          No              No  Month-to-month              Yes   \n",
            "\n",
            "               PaymentMethod MonthlyCharges  TotalCharges Churn  \n",
            "0           Electronic check          29.85         29.85    No  \n",
            "1               Mailed check          56.95        1889.5    No  \n",
            "2               Mailed check          53.85        108.15   Yes  \n",
            "3  Bank transfer (automatic)          42.30       1840.75    No  \n",
            "4           Electronic check          70.70        151.65   Yes  \n",
            "\n",
            "[5 rows x 21 columns]\n",
            "<class 'pandas.core.frame.DataFrame'>\n",
            "RangeIndex: 7043 entries, 0 to 7042\n",
            "Data columns (total 21 columns):\n",
            " #   Column            Non-Null Count  Dtype  \n",
            "---  ------            --------------  -----  \n",
            " 0   customerID        7043 non-null   object \n",
            " 1   gender            7043 non-null   object \n",
            " 2   SeniorCitizen     7043 non-null   int64  \n",
            " 3   Partner           7043 non-null   object \n",
            " 4   Dependents        7043 non-null   object \n",
            " 5   tenure            7043 non-null   int64  \n",
            " 6   PhoneService      7043 non-null   object \n",
            " 7   MultipleLines     7043 non-null   object \n",
            " 8   InternetService   7043 non-null   object \n",
            " 9   OnlineSecurity    7043 non-null   object \n",
            " 10  OnlineBackup      7043 non-null   object \n",
            " 11  DeviceProtection  7043 non-null   object \n",
            " 12  TechSupport       7043 non-null   object \n",
            " 13  StreamingTV       7043 non-null   object \n",
            " 14  StreamingMovies   7043 non-null   object \n",
            " 15  Contract          7043 non-null   object \n",
            " 16  PaperlessBilling  7043 non-null   object \n",
            " 17  PaymentMethod     7043 non-null   object \n",
            " 18  MonthlyCharges    7043 non-null   float64\n",
            " 19  TotalCharges      7043 non-null   object \n",
            " 20  Churn             7043 non-null   object \n",
            "dtypes: float64(1), int64(2), object(18)\n",
            "memory usage: 1.1+ MB\n",
            "None\n"
          ]
        }
      ]
    },
    {
      "cell_type": "code",
      "source": [
        "# Check for missing values\n",
        "data['TotalCharges'] = pd.to_numeric(data['TotalCharges'], errors='coerce')  # Convert 'TotalCharges' to numeric\n",
        "data = data.dropna()  # Drop rows with missing value"
      ],
      "metadata": {
        "id": "fQxlOF9_de6X"
      },
      "execution_count": 6,
      "outputs": []
    },
    {
      "cell_type": "code",
      "source": [
        "# Convert categorical columns to numeric using LabelEncoder\n",
        "label_cols = ['gender', 'Partner', 'Dependents', 'PhoneService', 'MultipleLines', 'InternetService',\n",
        "              'OnlineSecurity', 'OnlineBackup', 'DeviceProtection', 'TechSupport', 'StreamingTV',\n",
        "              'StreamingMovies', 'Contract', 'PaperlessBilling', 'PaymentMethod', 'Churn']\n",
        "\n",
        "le = LabelEncoder()\n",
        "for col in label_cols:\n",
        "    data[col] = le.fit_transform(data[col])"
      ],
      "metadata": {
        "id": "4gbHbjRaeK8O"
      },
      "execution_count": null,
      "outputs": []
    },
    {
      "cell_type": "code",
      "source": [
        "# Prepare the features (X) and target (y)\n",
        "X = data.drop(['customerID', 'Churn'], axis=1)  # Features\n",
        "y = data['Churn']  # Target (1 = churn, 0 = no churn)\n",
        "\n",
        "# Split the data into training and testing sets\n",
        "X_train, X_test, y_train, y_test = train_test_split(X, y, test_size=0.2, random_state=42)\n",
        "\n",
        "# Build a RandomForestClassifier model\n",
        "rf_model = RandomForestClassifier(n_estimators=100, random_state=42)\n",
        "rf_model.fit(X_train, y_train)\n",
        "\n",
        "# Make predictions\n",
        "y_pred = rf_model.predict(X_test)"
      ],
      "metadata": {
        "id": "Ms0CrOnwjpZQ"
      },
      "execution_count": 9,
      "outputs": []
    },
    {
      "cell_type": "code",
      "source": [
        "# Evaluate the model\n",
        "accuracy = accuracy_score(y_test, y_pred)\n",
        "conf_matrix = confusion_matrix(y_test, y_pred)\n",
        "class_report = classification_report(y_test, y_pred)\n",
        "\n",
        "print(\"Random Forest Classifier Results\")\n",
        "print(\"Accuracy: \", accuracy)\n",
        "print(\"Confusion Matrix: \\n\", conf_matrix)\n",
        "print(\"Classification Report: \\n\", class_report)"
      ],
      "metadata": {
        "colab": {
          "base_uri": "https://localhost:8080/"
        },
        "id": "0VmHx1Bwj3R8",
        "outputId": "93a8e6ac-4ea5-4db1-b419-5341273f7e19"
      },
      "execution_count": 10,
      "outputs": [
        {
          "output_type": "stream",
          "name": "stdout",
          "text": [
            "Random Forest Classifier Results\n",
            "Accuracy:  0.7924662402274343\n",
            "Confusion Matrix: \n",
            " [[932 101]\n",
            " [191 183]]\n",
            "Classification Report: \n",
            "               precision    recall  f1-score   support\n",
            "\n",
            "           0       0.83      0.90      0.86      1033\n",
            "           1       0.64      0.49      0.56       374\n",
            "\n",
            "    accuracy                           0.79      1407\n",
            "   macro avg       0.74      0.70      0.71      1407\n",
            "weighted avg       0.78      0.79      0.78      1407\n",
            "\n"
          ]
        }
      ]
    },
    {
      "cell_type": "code",
      "source": [
        "from sklearn.linear_model import LogisticRegression\n",
        "\n",
        "# Build a Logistic Regression model\n",
        "log_reg_model = LogisticRegression(max_iter=1000)\n",
        "log_reg_model.fit(X_train, y_train)\n",
        "\n",
        "# Make predictions using Logistic Regression\n",
        "y_pred_log = log_reg_model.predict(X_test)\n",
        "\n",
        "# Evaluate the Logistic Regression model\n",
        "accuracy_log = accuracy_score(y_test, y_pred_log)\n",
        "conf_matrix_log = confusion_matrix(y_test, y_pred_log)\n",
        "class_report_log = classification_report(y_test, y_pred_log)\n",
        "\n",
        "print(\"\\nLogistic Regression Results\")\n",
        "print(\"Accuracy: \", accuracy_log)\n",
        "print(\"Confusion Matrix: \\n\", conf_matrix_log)\n",
        "print(\"Classification Report: \\n\", class_report_log)"
      ],
      "metadata": {
        "colab": {
          "base_uri": "https://localhost:8080/"
        },
        "id": "y-dqduuikByd",
        "outputId": "af6404f6-3a5e-449d-d12c-91da6765b2b1"
      },
      "execution_count": 12,
      "outputs": [
        {
          "output_type": "stream",
          "name": "stdout",
          "text": [
            "\n",
            "Logistic Regression Results\n",
            "Accuracy:  0.7874911158493249\n",
            "Confusion Matrix: \n",
            " [[923 110]\n",
            " [189 185]]\n",
            "Classification Report: \n",
            "               precision    recall  f1-score   support\n",
            "\n",
            "           0       0.83      0.89      0.86      1033\n",
            "           1       0.63      0.49      0.55       374\n",
            "\n",
            "    accuracy                           0.79      1407\n",
            "   macro avg       0.73      0.69      0.71      1407\n",
            "weighted avg       0.78      0.79      0.78      1407\n",
            "\n"
          ]
        },
        {
          "output_type": "stream",
          "name": "stderr",
          "text": [
            "/usr/local/lib/python3.10/dist-packages/sklearn/linear_model/_logistic.py:469: ConvergenceWarning: lbfgs failed to converge (status=1):\n",
            "STOP: TOTAL NO. of ITERATIONS REACHED LIMIT.\n",
            "\n",
            "Increase the number of iterations (max_iter) or scale the data as shown in:\n",
            "    https://scikit-learn.org/stable/modules/preprocessing.html\n",
            "Please also refer to the documentation for alternative solver options:\n",
            "    https://scikit-learn.org/stable/modules/linear_model.html#logistic-regression\n",
            "  n_iter_i = _check_optimize_result(\n"
          ]
        }
      ]
    },
    {
      "cell_type": "markdown",
      "source": [
        "Let us get the data of customers who are likely to churn\n"
      ],
      "metadata": {
        "id": "TqwWNJHIyAiC"
      }
    },
    {
      "cell_type": "code",
      "source": [
        "# Predict churn for the customers in the test set\n",
        "y_pred = rf_model.predict(X_test)\n",
        "\n",
        "# Create a DataFrame to store the test data, the true churn values, and the predicted churn values\n",
        "test_results = X_test.copy()  # Copy the test features\n",
        "test_results['True Churn'] = y_test.values  # Add the true churn values (from the test set)\n",
        "test_results['Predicted Churn'] = y_pred  # Add the predicted churn values\n",
        "\n",
        "# Add the customer IDs back for easier identification\n",
        "test_results['CustomerID'] = data.loc[X_test.index, 'customerID']\n",
        "\n",
        "# Filter the DataFrame to only include customers predicted to churn\n",
        "churned_customers = test_results[test_results['Predicted Churn'] == 1]\n",
        "\n",
        "# Show the data of customers likely to churn\n",
        "print(churned_customers[['CustomerID', 'Predicted Churn']])\n"
      ],
      "metadata": {
        "colab": {
          "base_uri": "https://localhost:8080/"
        },
        "id": "fkTZWLDEkKIV",
        "outputId": "29bfefc8-5ec0-409e-b898-759ba5d7ed17"
      },
      "execution_count": 13,
      "outputs": [
        {
          "output_type": "stream",
          "name": "stdout",
          "text": [
            "      CustomerID  Predicted Churn\n",
            "6125  0871-URUWO                1\n",
            "3223  3082-VQXNH                1\n",
            "3469  9402-ORRAH                1\n",
            "1976  9497-QCMMS                1\n",
            "1081  1751-NCDLI                1\n",
            "...          ...              ...\n",
            "5025  7326-RIGQZ                1\n",
            "2869  2672-HUYVI                1\n",
            "1628  6267-DCFFZ                1\n",
            "5570  5982-FPVQN                1\n",
            "5250  3338-CVVEH                1\n",
            "\n",
            "[284 rows x 2 columns]\n"
          ]
        }
      ]
    },
    {
      "cell_type": "code",
      "source": [
        "#export the data to excel\n",
        "\n",
        "import pandas as pd\n",
        "\n",
        "# Assuming 'churned_customers' DataFrame contains the data you want to export\n",
        "churned_customers.to_excel('churned_customers.xlsx', index=False)\n"
      ],
      "metadata": {
        "id": "Dai33joJyKF8"
      },
      "execution_count": 14,
      "outputs": []
    },
    {
      "cell_type": "markdown",
      "source": [
        "    Results: We tested the model with new customer data that it hadn't seen before, and here's what we found:\n",
        "        Accuracy: Our model correctly predicted whether a customer would stay or leave about 79% of the time.\n",
        "        Churn Prediction: For customers that the model predicted would leave, it was correct about 64% of the time. For those predicted to stay, it was correct about 83% of the time.\n",
        "\n",
        "    The confusion matrix shows how many times the model predicted correctly or incorrectly for both stayers and leavers:\n",
        "        932 times, it correctly predicted customers would stay.\n",
        "        183 times, it correctly predicted customers would leave.\n",
        "        It also made some mistakes, like predicting customers would leave when they actually stayed.\n",
        "\n",
        "In summary, we used customer information and a smart model to predict whether they will stay or leave. The model is fairly accurate, helping businesses identify which customers might churn so they can take action to keep them!"
      ],
      "metadata": {
        "id": "q3w4Fuy72CiF"
      }
    }
  ]
}